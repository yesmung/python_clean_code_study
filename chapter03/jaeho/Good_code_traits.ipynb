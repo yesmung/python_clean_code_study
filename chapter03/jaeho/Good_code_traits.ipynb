{
 "cells": [
  {
   "cell_type": "markdown",
   "metadata": {},
   "source": [
    "## Exception Handling"
   ]
  },
  {
   "cell_type": "markdown",
   "metadata": {},
   "source": [
    ">* 예외는 오직 한 가지 일을 하는 함수의 한 부분이어야 합니다"
   ]
  },
  {
   "cell_type": "markdown",
   "metadata": {},
   "source": [
    "### Bad exception handling case"
   ]
  },
  {
   "cell_type": "code",
   "execution_count": 1,
   "metadata": {},
   "outputs": [],
   "source": [
    "class DataTransport:\n",
    "    \"\"\"An example of an object badly handling exceptions of different levels.\"\"\"\n",
    "\n",
    "    retry_threshold: int = 5\n",
    "    retry_n_times: int = 3\n",
    "\n",
    "    def __init__(self, connector):\n",
    "        self._connector = connector\n",
    "        self.connection = None\n",
    "\n",
    "    def deliver_event(self, event):\n",
    "        try:\n",
    "            self.connect()\n",
    "            data = event.decode()\n",
    "            self.send(data)\n",
    "        except ConnectionError as e:\n",
    "            logger.info(\"connection error detected: %s\", e)\n",
    "            raise\n",
    "        except ValueError as e:\n",
    "            logger.error(\"%r contains incorrect data: %s\", event, e)\n",
    "            raise\n",
    "\n",
    "    def connect(self):\n",
    "        for _ in range(self.retry_n_times):\n",
    "            try:\n",
    "                self.connection = self._connector.connect()\n",
    "            except ConnectionError as e:\n",
    "                logger.info(\n",
    "                    \"%s: attempting new connection in %is\",\n",
    "                    e,\n",
    "                    self.retry_threshold,\n",
    "                )\n",
    "                time.sleep(self.retry_threshold)\n",
    "            else:\n",
    "                return self.connection\n",
    "        raise ConnectionError(\n",
    "            f\"Couldn't connect after {self.retry_n_times} times\"\n",
    "        )\n",
    "\n",
    "    def send(self, data):\n",
    "        return self.connection.send(data)\n",
    "    "
   ]
  },
  {
   "cell_type": "markdown",
   "metadata": {},
   "source": [
    "* 위의 deliver_event()가 다루고 있는 두 개의 예외처리 (ConnectionError, ValueError)는 서로 관련이 없으며 에러 발생시 책임의 소재가 불분명하다\n",
    "* 따라서 각 예외처리는 세분화된 메소드로 나누어 그 안에서 다뤄지는 것이 옳다"
   ]
  },
  {
   "cell_type": "markdown",
   "metadata": {},
   "source": [
    "### Better exception handling case"
   ]
  },
  {
   "cell_type": "code",
   "execution_count": 2,
   "metadata": {},
   "outputs": [],
   "source": [
    "def connect_with_retry(connector, retry_n_times, retry_threshold=5):\n",
    "    \"\"\"Tries to establish the connection of <connector> retrying\n",
    "    <retry_n_times>.\n",
    "\n",
    "    If it can connect, returns the connection object.\n",
    "    If it's not possible after the retries, raises ConnectionError\n",
    "\n",
    "    :param connector:           An object with a `.connect()` method.\n",
    "    :param retry_n_times int:   The number of times to try to call\n",
    "                                ``connector.connect()``.\n",
    "    :param retry_threshold int: The time lapse between retry calls.\n",
    "\n",
    "    \"\"\"\n",
    "    for _ in range(retry_n_times):\n",
    "        try:\n",
    "            return connector.connect()\n",
    "        except ConnectionError as e:\n",
    "            logger.info(\n",
    "                \"%s: attempting new connection in %is\", e, retry_threshold\n",
    "            )\n",
    "            time.sleep(retry_threshold)\n",
    "    exc = ConnectionError(f\"Couldn't connect after {retry_n_times} times\")\n",
    "    logger.exception(exc)\n",
    "    raise exc\n",
    "\n",
    "\n",
    "class DataTransport:\n",
    "    \"\"\"An example of an object that separates the exception handling by\n",
    "    abstraction levels.\n",
    "    \"\"\"\n",
    "\n",
    "    retry_threshold: int = 5\n",
    "    retry_n_times: int = 3\n",
    "\n",
    "    def __init__(self, connector):\n",
    "        self._connector = connector\n",
    "        self.connection = None\n",
    "\n",
    "    def deliver_event(self, event):\n",
    "        self.connection = connect_with_retry(\n",
    "            self._connector, self.retry_n_times, self.retry_threshold\n",
    "        )\n",
    "        self.send(event)\n",
    "\n",
    "    def send(self, event):\n",
    "        try:\n",
    "            return self.connection.send(event.decode())\n",
    "        except ValueError as e:\n",
    "            logger.error(\"%r contains incorrect data: %s\", event, e)\n",
    "            raise"
   ]
  },
  {
   "cell_type": "markdown",
   "metadata": {},
   "source": [
    "* 위의 코드에서 ConnectionError는 연결 구현 부분인 connect_with_retry()에서만 다뤄지며, ValueError는 보낼 event를 decode하는 send()에서만 다뤄진다\n",
    "* 에러 발생시 책임의 소재가 분명하다"
   ]
  },
  {
   "cell_type": "markdown",
   "metadata": {},
   "source": [
    "## Inheritance"
   ]
  },
  {
   "cell_type": "markdown",
   "metadata": {},
   "source": [
    ">* 상속의 가장 주된 위험은 결합력(coupling)의 증가이다"
   ]
  },
  {
   "cell_type": "markdown",
   "metadata": {},
   "source": [
    ">* 단지 부모 클래스에 있는 메서드를 공짜로 얻을 수 있기 때문에 상속을 하는 것은 좋지 않은 생각이다"
   ]
  },
  {
   "cell_type": "markdown",
   "metadata": {},
   "source": [
    "### Bad inheritance case"
   ]
  },
  {
   "cell_type": "code",
   "execution_count": 3,
   "metadata": {},
   "outputs": [],
   "source": [
    "import collections\n",
    "from datetime import datetime\n",
    "\n",
    "\n",
    "class TransactionalPolicy(collections.UserDict):\n",
    "    def change_in_policy(self, customer_id, **new_policy_data):\n",
    "        self[customer_id].update(**new_policy_data)\n",
    "        \n",
    "class TestPolicy():\n",
    "    def test_get_policy(self):\n",
    "        policy = TransactionalPolicy(\n",
    "            {\n",
    "                \"client001\": {\n",
    "                    \"fee\": 1000.0,\n",
    "                    \"expiration_date\": datetime(2020, 1, 3),\n",
    "                }\n",
    "            }\n",
    "        )\n",
    "        self.assertDictEqual(\n",
    "            policy[\"client001\"],\n",
    "            {\"fee\": 1000.0, \"expiration_date\": datetime(2020, 1, 3)},\n",
    "        )\n",
    "\n",
    "        policy.change_in_policy(\n",
    "            \"client001\", expiration_date=datetime(2020, 1, 4)\n",
    "        )\n",
    "        self.assertDictEqual(\n",
    "            policy[\"client001\"],\n",
    "            {\"fee\": 1000.0, \"expiration_date\": datetime(2020, 1, 4)},\n",
    "        )\n"
   ]
  },
  {
   "cell_type": "code",
   "execution_count": 5,
   "metadata": {},
   "outputs": [
    {
     "data": {
      "text/plain": [
       "['_MutableMapping__marker',\n",
       " '__abstractmethods__',\n",
       " '__class__',\n",
       " '__contains__',\n",
       " '__delattr__',\n",
       " '__delitem__',\n",
       " '__dict__',\n",
       " '__dir__',\n",
       " '__doc__',\n",
       " '__eq__',\n",
       " '__format__',\n",
       " '__ge__',\n",
       " '__getattribute__',\n",
       " '__getitem__',\n",
       " '__gt__',\n",
       " '__hash__',\n",
       " '__init__',\n",
       " '__init_subclass__',\n",
       " '__iter__',\n",
       " '__le__',\n",
       " '__len__',\n",
       " '__lt__',\n",
       " '__module__',\n",
       " '__ne__',\n",
       " '__new__',\n",
       " '__reduce__',\n",
       " '__reduce_ex__',\n",
       " '__repr__',\n",
       " '__reversed__',\n",
       " '__setattr__',\n",
       " '__setitem__',\n",
       " '__sizeof__',\n",
       " '__slots__',\n",
       " '__str__',\n",
       " '__subclasshook__',\n",
       " '__weakref__',\n",
       " '_abc_cache',\n",
       " '_abc_negative_cache',\n",
       " '_abc_negative_cache_version',\n",
       " '_abc_registry',\n",
       " 'change_in_policy',\n",
       " 'clear',\n",
       " 'copy',\n",
       " 'data',\n",
       " 'fromkeys',\n",
       " 'get',\n",
       " 'items',\n",
       " 'keys',\n",
       " 'pop',\n",
       " 'popitem',\n",
       " 'setdefault',\n",
       " 'update',\n",
       " 'values']"
      ]
     },
     "execution_count": 5,
     "metadata": {},
     "output_type": "execute_result"
    }
   ],
   "source": [
    "policy = TransactionalPolicy({'client001': {'fee': 1000.0, 'expiration_date': datetime(2020,1,3)}})\n",
    "dir(policy)"
   ]
  },
  {
   "cell_type": "markdown",
   "metadata": {},
   "source": [
    "* 특정 고객의 레코드에 상수 시간에 접근할 수 있는 사전 타입의 객체를 생각할 수 있다\n",
    "* 하지만 이는 아래와 같은 2가지 문제점이 있다\n",
    "    * 첫째, 계층구조가 명확하지 않다 --> TransactionalPolicy 이름만 보고 사전 타입인 것을 알 수 없다\n",
    "    * 둘째, 불필요한 메서드들이 추가된다 --> 결합력이 증가한다\n",
    "* 이에 대한 해결책은 컴포지션을 사용하는 것이다 --> 사전이 되는 것이 아니라, 사전을 활용하는 것이다!"
   ]
  },
  {
   "cell_type": "markdown",
   "metadata": {},
   "source": [
    "### Better Inheritance Case"
   ]
  },
  {
   "cell_type": "code",
   "execution_count": 7,
   "metadata": {},
   "outputs": [],
   "source": [
    "from datetime import datetime\n",
    "\n",
    "class TransactionalPolicy:\n",
    "    def __init__(self, policy_data, **extra_data):\n",
    "        self._data = {**policy_data, **extra_data}\n",
    "    def change_in_policy(self, customer_id, **new_policy_data):\n",
    "        self._data[customer_id].update(**new_policy_data)\n",
    "    def __getitem__(self, customer_id):\n",
    "        return self._data[customer_id]\n",
    "    def __len__(self):\n",
    "        return len(self._data)\n",
    "    \n",
    "class TestPolicy():\n",
    "    def test_get_policy(self):\n",
    "        policy = TransactionalPolicy(\n",
    "            {\n",
    "                \"client001\": {\n",
    "                    \"fee\": 1000.0,\n",
    "                    \"expiration_date\": datetime(2020, 1, 3),\n",
    "                }\n",
    "            }\n",
    "        )\n",
    "        self.assertDictEqual(\n",
    "            policy[\"client001\"],\n",
    "            {\"fee\": 1000.0, \"expiration_date\": datetime(2020, 1, 3)},\n",
    "        )\n",
    "\n",
    "        policy.change_in_policy(\n",
    "            \"client001\", expiration_date=datetime(2020, 1, 4)\n",
    "        )\n",
    "        self.assertDictEqual(\n",
    "            policy[\"client001\"],\n",
    "            {\"fee\": 1000.0, \"expiration_date\": datetime(2020, 1, 4)},\n",
    "        )"
   ]
  },
  {
   "cell_type": "code",
   "execution_count": 9,
   "metadata": {
    "scrolled": true
   },
   "outputs": [
    {
     "data": {
      "text/plain": [
       "['__class__',\n",
       " '__delattr__',\n",
       " '__dict__',\n",
       " '__dir__',\n",
       " '__doc__',\n",
       " '__eq__',\n",
       " '__format__',\n",
       " '__ge__',\n",
       " '__getattribute__',\n",
       " '__getitem__',\n",
       " '__gt__',\n",
       " '__hash__',\n",
       " '__init__',\n",
       " '__init_subclass__',\n",
       " '__le__',\n",
       " '__len__',\n",
       " '__lt__',\n",
       " '__module__',\n",
       " '__ne__',\n",
       " '__new__',\n",
       " '__reduce__',\n",
       " '__reduce_ex__',\n",
       " '__repr__',\n",
       " '__setattr__',\n",
       " '__sizeof__',\n",
       " '__str__',\n",
       " '__subclasshook__',\n",
       " '__weakref__',\n",
       " '_data',\n",
       " 'change_in_policy']"
      ]
     },
     "execution_count": 9,
     "metadata": {},
     "output_type": "execute_result"
    }
   ],
   "source": [
    "policy_better = TransactionalPolicy({'client001': {'fee': 1000.0, 'expiration_date': datetime(2020,1,3)}})\n",
    "dir(policy_better)"
   ]
  },
  {
   "cell_type": "markdown",
   "metadata": {},
   "source": [
    "* 위의 방법은 개념적으로도 정확할 뿐만 아니라 확장성도 뛰어나다\n",
    "    * 현재 사전인 데이터 구조를 향후 변경하려 해도 인터페이스만 유지하면 사용자는 영향을 받지 않는다\n",
    "    * 이는 결합력을 줄이고 파급 효과를 최소화하여 unittest를 변경하지 않아도 된다"
   ]
  },
  {
   "cell_type": "markdown",
   "metadata": {},
   "source": [
    "## Acronyms to live by"
   ]
  },
  {
   "cell_type": "markdown",
   "metadata": {},
   "source": [
    "### DRY (Do not Repeat Yourself)"
   ]
  },
  {
   "cell_type": "markdown",
   "metadata": {},
   "source": [
    "* 코드 중복은 아래와 같은 이유로 유지보수에 치명적이다\n",
    "    * 오류가 발생하기 쉽다 --> 수정시에 하나라도 빠뜨리면 버그가 발생한다\n",
    "    * 비용이 비싸다 --> 여러군데에 정의한 것을 고치기 위한 많은 비용과 노력이 발생한다\n",
    "    * 신뢰성이 떨어진다 "
   ]
  },
  {
   "cell_type": "markdown",
   "metadata": {},
   "source": [
    "### Keep it Simple (KIS)"
   ]
  },
  {
   "cell_type": "markdown",
   "metadata": {},
   "source": [
    "#### Unnecessarily Complicated Case"
   ]
  },
  {
   "cell_type": "code",
   "execution_count": 3,
   "metadata": {},
   "outputs": [],
   "source": [
    "class ComplicatedNamespace:\n",
    "    ACCEPTED_VALUES = {'id_', 'user', 'location'}\n",
    "    @classmethod\n",
    "    def init_with_data(cls, **data):\n",
    "        instance = cls()\n",
    "        for key, value in data.items():\n",
    "            setattr(instance, key, value)\n",
    "        return instance"
   ]
  },
  {
   "cell_type": "markdown",
   "metadata": {},
   "source": [
    "* 위의 예제는 객체를 초기화하기 위해 추가 클래스 메소드(init_with_data)를 정의한 부분이다\n",
    "    * 이는 불필요하며, 사용자에게 일반적이지 않은 이름의 메소드를 강요하고, 반복을 통해 setattr를 호출하는 것은 더욱 더 에러이다"
   ]
  },
  {
   "cell_type": "markdown",
   "metadata": {},
   "source": [
    "#### Simple Case"
   ]
  },
  {
   "cell_type": "code",
   "execution_count": 4,
   "metadata": {},
   "outputs": [],
   "source": [
    "class SimpleNamespace:\n",
    "    ACCEPTED_VALUES = {'id_', 'user', 'location'}\n",
    "    \n",
    "    def __init__(self, **data):\n",
    "        accepted_data = {k: v for k, v in data.items() if k in self.ACCEPTED_VALUES}\n",
    "        self.__dict__.update(accepted_data)"
   ]
  },
  {
   "cell_type": "markdown",
   "metadata": {},
   "source": [
    "### EAFP (Easier to Ask Forgiveness than Permission) & LBYL (Look Before You Leap)"
   ]
  },
  {
   "cell_type": "markdown",
   "metadata": {},
   "source": [
    "* EAFP는 일단 코드를 실행하고 실제 동작하지 않을 경우에 대응한다는 뜻이다 (try, catch, except)\n",
    "* LBYL은 그 반대로, 무엇을 사용하려고 하는지 먼저 확인하라는 뜻이다 (if os.path.exists...)\n",
    "* Python은 EAFP의 방식으로 만들어졌다"
   ]
  },
  {
   "cell_type": "markdown",
   "metadata": {},
   "source": []
  },
  {
   "cell_type": "markdown",
   "metadata": {},
   "source": [
    "## Orthogonality"
   ]
  },
  {
   "cell_type": "code",
   "execution_count": null,
   "metadata": {},
   "outputs": [],
   "source": []
  },
  {
   "cell_type": "code",
   "execution_count": null,
   "metadata": {},
   "outputs": [],
   "source": []
  }
 ],
 "metadata": {
  "kernelspec": {
   "display_name": "Tensorflow",
   "language": "python",
   "name": "tensorflow"
  },
  "language_info": {
   "codemirror_mode": {
    "name": "ipython",
    "version": 3
   },
   "file_extension": ".py",
   "mimetype": "text/x-python",
   "name": "python",
   "nbconvert_exporter": "python",
   "pygments_lexer": "ipython3",
   "version": "3.6.8"
  }
 },
 "nbformat": 4,
 "nbformat_minor": 2
}
