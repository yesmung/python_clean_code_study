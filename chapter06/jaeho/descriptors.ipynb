{
 "cells": [
  {
   "cell_type": "markdown",
   "metadata": {},
   "source": [
    "## Why Descriptors"
   ]
  },
  {
   "cell_type": "markdown",
   "metadata": {},
   "source": [
    "### 1. Use \\__setattr__ for capitalize"
   ]
  },
  {
   "cell_type": "code",
   "execution_count": 1,
   "metadata": {},
   "outputs": [],
   "source": [
    "class Person():\n",
    "    def __init__(self, name):\n",
    "        self.name = name\n",
    "    \n",
    "    def __setattr__(self, attr, value):\n",
    "        if attr == 'name':\n",
    "            super().__setattr__(attr, value.capitalize())\n",
    "        else:\n",
    "            super().__setattr__(attr, value)"
   ]
  },
  {
   "cell_type": "code",
   "execution_count": 3,
   "metadata": {},
   "outputs": [
    {
     "name": "stdout",
     "output_type": "stream",
     "text": [
      "Matt\n",
      "Sam\n"
     ]
    }
   ],
   "source": [
    "p = Person('matt')\n",
    "print(p.name)\n",
    "\n",
    "p.name = 'sam'\n",
    "print(p.name)"
   ]
  },
  {
   "cell_type": "markdown",
   "metadata": {},
   "source": [
    "### 2. Use @property for capitalize"
   ]
  },
  {
   "cell_type": "code",
   "execution_count": 7,
   "metadata": {},
   "outputs": [],
   "source": [
    "class Person2():\n",
    "    def __init__(self, name):\n",
    "        self.name = name\n",
    "    \n",
    "    @property\n",
    "    def name(self):\n",
    "        return self._random\n",
    "    \n",
    "    @name.setter\n",
    "    def name(self, value):\n",
    "        self._random = value.capitalize()"
   ]
  },
  {
   "cell_type": "code",
   "execution_count": 8,
   "metadata": {},
   "outputs": [
    {
     "name": "stdout",
     "output_type": "stream",
     "text": [
      "Me\n",
      "You\n"
     ]
    }
   ],
   "source": [
    "pp = Person2('me')\n",
    "print(pp.name)\n",
    "\n",
    "pp.name = 'you'\n",
    "print(pp.name)"
   ]
  },
  {
   "cell_type": "markdown",
   "metadata": {},
   "source": [
    "But suppose there were hundreds of different attributes that need to be capitalized... WE NEED ABSTRACTION!!"
   ]
  },
  {
   "cell_type": "markdown",
   "metadata": {},
   "source": [
    "### 3. Use descriptor for capitalize"
   ]
  },
  {
   "cell_type": "code",
   "execution_count": 13,
   "metadata": {},
   "outputs": [],
   "source": [
    "from weakref import WeakKeyDictionary\n",
    "\n",
    "class CapitalizedValue():\n",
    "    def __init__(self):\n",
    "        self.data = WeakKeyDictionary()\n",
    "    \n",
    "    def __get__(self, instance, owner):\n",
    "        if instance is None:\n",
    "            return self\n",
    "        return self.data[instance]\n",
    "    \n",
    "    def __set__(self, instance, value):\n",
    "        self.data[instance] = value.capitalize()\n",
    "        \n",
    "class Person3():\n",
    "    name = CapitalizedValue()"
   ]
  },
  {
   "cell_type": "code",
   "execution_count": 16,
   "metadata": {},
   "outputs": [
    {
     "name": "stdout",
     "output_type": "stream",
     "text": [
      "Yaik\n"
     ]
    }
   ],
   "source": [
    "ppp = Person3()\n",
    "# print(ppp.name)\n",
    "\n",
    "ppp.name = 'yaik'\n",
    "print(ppp.name)"
   ]
  },
  {
   "cell_type": "markdown",
   "metadata": {},
   "source": [
    "## Practical Usages "
   ]
  },
  {
   "cell_type": "code",
   "execution_count": 18,
   "metadata": {},
   "outputs": [],
   "source": [
    "class Validation:\n",
    "    def __init__(self, validation_function, error_msg:str):\n",
    "        self.validation_function = validation_function\n",
    "        self.error_msg = error_msg\n",
    "    \n",
    "    def __call__(self, value):\n",
    "        if not self.validation_function(value):\n",
    "            raise ValueError('{!r} {}'.format(value, self.error_msg))\n",
    "            \n",
    "class Field:\n",
    "    def __init__(self, *validations):\n",
    "        self._name = None\n",
    "        self.validations = validations\n",
    "        \n",
    "    def __set_name__(self, owner, name):\n",
    "        self._name = name\n",
    "        \n",
    "    def __get__(self, instance, owner):\n",
    "        if instance is None:\n",
    "            return self\n",
    "        return instance.__dict__[self._name]\n",
    "    \n",
    "    def validate(self, value):\n",
    "        for validation in self.validations:\n",
    "            validation(value)\n",
    "    \n",
    "    def __set__(self, instance, value):\n",
    "        self.validate(value)\n",
    "        instance.__dict__[self.name] = value\n",
    "        \n",
    "class ClientClass:\n",
    "    decriptor = Field(\n",
    "    Validation(lambda x: isinstance(x, (int, float)), 'is not a number'),\n",
    "        Validation(lambda x: x >= 0, 'is smaller than 0')\n",
    "    )"
   ]
  },
  {
   "cell_type": "code",
   "execution_count": 26,
   "metadata": {
    "scrolled": true
   },
   "outputs": [
    {
     "name": "stdout",
     "output_type": "stream",
     "text": [
      "42\n",
      "-42\n"
     ]
    }
   ],
   "source": [
    "client = ClientClass()\n",
    "client.descriptor = 42\n",
    "print(client.descriptor)\n",
    "client.descriptor = -42\n",
    "print(client.descriptor)"
   ]
  },
  {
   "cell_type": "code",
   "execution_count": null,
   "metadata": {},
   "outputs": [],
   "source": []
  }
 ],
 "metadata": {
  "kernelspec": {
   "display_name": "Tensorflow",
   "language": "python",
   "name": "tensorflow"
  },
  "language_info": {
   "codemirror_mode": {
    "name": "ipython",
    "version": 3
   },
   "file_extension": ".py",
   "mimetype": "text/x-python",
   "name": "python",
   "nbconvert_exporter": "python",
   "pygments_lexer": "ipython3",
   "version": "3.6.8"
  }
 },
 "nbformat": 4,
 "nbformat_minor": 2
}
