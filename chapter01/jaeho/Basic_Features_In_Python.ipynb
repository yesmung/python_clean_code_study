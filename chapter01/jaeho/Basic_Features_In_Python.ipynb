{
 "cells": [
  {
   "cell_type": "markdown",
   "metadata": {},
   "source": [
    "## What are the Built-In Functions in Python?        \n",
    "![This](./resources/py_built_in_func_list.png)"
   ]
  },
  {
   "cell_type": "markdown",
   "metadata": {},
   "source": [
    "<span style=\"font-family:Babas; font-size:2em;\">classmethod()</span>"
   ]
  },
  {
   "cell_type": "markdown",
   "metadata": {},
   "source": [
    "> <span style=\"font-size:1.2em\">\"Encapsulating Object Creation\" </span>"
   ]
  },
  {
   "cell_type": "code",
   "execution_count": 30,
   "metadata": {},
   "outputs": [],
   "source": [
    "# 생성자를 이용한 객체 생성\n",
    "class Student(object):\n",
    "    \n",
    "    def __init__(self, first_name, last_name):\n",
    "        self.first_name = first_name\n",
    "        self.last_name = last_name\n",
    "scott = Student('Scott', 'Robinson')"
   ]
  },
  {
   "cell_type": "code",
   "execution_count": 31,
   "metadata": {},
   "outputs": [
    {
     "name": "stdout",
     "output_type": "stream",
     "text": [
      "Scott\n",
      "who\n"
     ]
    }
   ],
   "source": [
    "# classmethod()를 이용한 객체 생성\n",
    "class Student(object):\n",
    "    \n",
    "    def __init__(self, first_name, last_name, mid_term_score):\n",
    "        self.first_name = first_name\n",
    "        self.last_name =  last_name\n",
    "        self.mid_term_score = mid_term_score\n",
    "\n",
    "    @classmethod\n",
    "    def from_string(cls, name_str):\n",
    "        first_name, last_name = map(str, name_str.split(' '))\n",
    "        student = cls(first_name, last_name, 30)\n",
    "        return student\n",
    "    \n",
    "    @classmethod\n",
    "    def from_grade(cls, grade_score):\n",
    "        student = cls('who', 'RU', grade_score)\n",
    "        return student\n",
    "\n",
    "\n",
    "scott = Student.from_string('Scott Robinson')\n",
    "anonymous = Student.from_grade(90)\n",
    "\n",
    "print(scott.first_name)\n",
    "print(anonymous.first_name)"
   ]
  },
  {
   "cell_type": "code",
   "execution_count": 32,
   "metadata": {},
   "outputs": [
    {
     "name": "stdout",
     "output_type": "stream",
     "text": [
      "<img></img>\n",
      "<input></input>\n",
      "<obj></obj>\n"
     ]
    }
   ],
   "source": [
    "class Button(object):\n",
    "    html = \"\"\n",
    "    def get_html(self):\n",
    "        return self.html\n",
    "    \n",
    "class Image(Button):\n",
    "    html = \"<img></img>\"\n",
    "\n",
    "class Input(Button):\n",
    "    html = \"<input></input>\"\n",
    "\n",
    "class Flash(Button):\n",
    "    html = \"<obj></obj>\"\n",
    "    \n",
    "class ButtonFactory():\n",
    "    def create_button(self, typ):\n",
    "        targetclass = typ.capitalize()\n",
    "        return globals()[targetclass]()\n",
    "    \n",
    "button_obj = ButtonFactory()\n",
    "button = ['image', 'input', 'flash']\n",
    "for b in button:\n",
    "    print(button_obj.create_button(b).get_html())\n"
   ]
  },
  {
   "cell_type": "code",
   "execution_count": 33,
   "metadata": {},
   "outputs": [
    {
     "name": "stdout",
     "output_type": "stream",
     "text": [
      "<img></img>\n",
      "<input></input>\n",
      "<obj></obj>\n"
     ]
    }
   ],
   "source": [
    "class Button(object):\n",
    "    def __init__(self, html=\"\"):\n",
    "        self.html = html\n",
    "        \n",
    "    def get_html(self):\n",
    "        return self.html\n",
    "\n",
    "    @classmethod\n",
    "    def from_Image(cls):\n",
    "        return cls('<img></img>')\n",
    "    \n",
    "    @classmethod\n",
    "    def from_Input(cls):\n",
    "        return cls('<input></input>')\n",
    "    \n",
    "    @classmethod\n",
    "    def from_Flash(cls):\n",
    "        return cls('<obj></obj>')\n",
    "    \n",
    "button_obj = Button()\n",
    "print(button_obj.from_Image().get_html())\n",
    "print(button_obj.from_Input().get_html())\n",
    "print(button_obj.from_Flash().get_html())"
   ]
  },
  {
   "cell_type": "markdown",
   "metadata": {},
   "source": [
    "<span style=\"font-family:Babas; font-size:2em;\">lambda(), map() and filter()</span>"
   ]
  },
  {
   "cell_type": "code",
   "execution_count": null,
   "metadata": {},
   "outputs": [],
   "source": []
  },
  {
   "cell_type": "markdown",
   "metadata": {},
   "source": [
    "<span style=\"font-family:Babas; font-size:2em;\">property()</span>  \n",
    "> <span style=\"font-family:Babas; font-size:1.2em\">\"Make class attribute private\"</span>"
   ]
  },
  {
   "cell_type": "code",
   "execution_count": 34,
   "metadata": {},
   "outputs": [],
   "source": [
    "# Using Getters and Setters\n",
    "class Celcius:\n",
    "    def __init__(self, temperature= 0):\n",
    "        self.set_temperature(temperature)\n",
    "    \n",
    "    def to_fahrenheit(self):\n",
    "        return (self.get_temperature() * 1.8) + 32\n",
    "    \n",
    "    def get_temperature(self):\n",
    "        return self._temperature\n",
    "    \n",
    "    def set_temperature(self, value):\n",
    "        if value < -273:\n",
    "            raise ValueError(\"Temperature below -273 is not possible\")\n",
    "        self._temperature = value\n",
    "        "
   ]
  },
  {
   "cell_type": "code",
   "execution_count": 35,
   "metadata": {},
   "outputs": [
    {
     "name": "stdout",
     "output_type": "stream",
     "text": [
      "Setting value\n",
      "Getting value\n",
      "20\n"
     ]
    }
   ],
   "source": [
    "# Using property()\n",
    "class Celsius:\n",
    "    def __init__(self, temperature=0):\n",
    "        self.temperature = temperature\n",
    "        \n",
    "    def to_fahrenheit(self):\n",
    "        return (self.temperature * 1.8) + 32\n",
    "    \n",
    "    def get_temperature(self):\n",
    "        print('Getting value')\n",
    "        return self._temperature\n",
    "    \n",
    "    def set_temperature(self, value):\n",
    "        if value < -273:\n",
    "            raise ValueError(\"Temperature below -273 is not possible\")\n",
    "        print('Setting value')\n",
    "        self._temperature = value\n",
    "        \n",
    "    temperature = property(get_temperature, set_temperature)\n",
    "    # Any code that 'retrieves' the value of temperature will automatically call get_temperature()\n",
    "    # Similarly, anu code that 'assigns' value will automatically call set_temperature()\n",
    "    \n",
    "c = Celsius(20)\n",
    "print(c.temperature)"
   ]
  },
  {
   "cell_type": "code",
   "execution_count": 36,
   "metadata": {},
   "outputs": [
    {
     "name": "stdout",
     "output_type": "stream",
     "text": [
      "Setting value\n",
      "Getting value\n",
      "20\n",
      "Setting value\n"
     ]
    }
   ],
   "source": [
    "# Using @property\n",
    "class Celcius:\n",
    "    def __init__(self, temperature = 0):\n",
    "        self.temperature = temperature\n",
    "    \n",
    "    def to_fahrenheit(self):\n",
    "        return (self.temperature * 1.8) + 32\n",
    "    \n",
    "    @property\n",
    "    def temperature(self):\n",
    "        print(\"Getting value\")\n",
    "        return self._temperature\n",
    "    \n",
    "    @temperature.setter\n",
    "    def temperature(self, value):\n",
    "        if value < -273:\n",
    "            raise ValueError(\"Temperature below -273 is not possible\")\n",
    "        print(\"Setting value\")\n",
    "        self._temperature = value\n",
    "        \n",
    "c = Celcius(20)\n",
    "print(c.temperature)\n",
    "c.temperature = -200"
   ]
  },
  {
   "cell_type": "markdown",
   "metadata": {},
   "source": [
    "## Miscellaneous"
   ]
  },
  {
   "cell_type": "markdown",
   "metadata": {},
   "source": [
    " * <span style=\"font-size: 1.5em\">Understanding \\*args, **kwargs (and when to use it) </span>"
   ]
  },
  {
   "cell_type": "markdown",
   "metadata": {},
   "source": [
    "> <span style=\"font-size: 1.2em\">Variable (keyword ) arguments passed as an iterable </span>"
   ]
  },
  {
   "cell_type": "code",
   "execution_count": 37,
   "metadata": {},
   "outputs": [
    {
     "name": "stdout",
     "output_type": "stream",
     "text": [
      "Is an awesome company\n",
      "Really?\n"
     ]
    }
   ],
   "source": [
    "str_1 = 'LG Electronics'\n",
    "str_2 = 'Is an awesome company'\n",
    "str_3 = 'Really?'\n",
    "\n",
    "str_title = 'Wow'\n",
    "\n",
    "def random_func(title, title2, *args):\n",
    "    for strings in args:\n",
    "        print(strings)\n",
    "        \n",
    "random_func(str_title, str_1, str_2, str_3)"
   ]
  },
  {
   "cell_type": "code",
   "execution_count": 38,
   "metadata": {},
   "outputs": [
    {
     "name": "stdout",
     "output_type": "stream",
     "text": [
      "Wow\n",
      "str_1 LG Electronics\n",
      "str_2 Is an awesome company\n",
      "str_3 Really?\n"
     ]
    }
   ],
   "source": [
    "string_1 = 'LG Electronics'\n",
    "string_2 = 'Is an awesome company'\n",
    "string_3 = 'Really?'\n",
    "\n",
    "str_title = 'Wow'\n",
    "\n",
    "def random_func(title, **kwargs):\n",
    "    print(title)\n",
    "    for keyword, value in kwargs.items():\n",
    "        print(keyword, value)\n",
    "        \n",
    "random_func(str_title, str_1=string_1, str_2=string_2, str_3=string_3)"
   ]
  },
  {
   "cell_type": "code",
   "execution_count": 39,
   "metadata": {
    "scrolled": true
   },
   "outputs": [
    {
     "name": "stdout",
     "output_type": "stream",
     "text": [
      "Wow\n",
      "strings\n",
      "3\n",
      "str_1 LG Electronics\n",
      "str_2 Is an awesome company\n",
      "str_3 Really?\n"
     ]
    }
   ],
   "source": [
    "string_1 = 'LG Electronics'\n",
    "string_2 = 'Is an awesome company'\n",
    "string_3 = 'Really?'\n",
    "\n",
    "str_title = 'Wow'\n",
    "\n",
    "def random_func(title, *args, **kwargs):\n",
    "    print(title)\n",
    "#     print(name)\n",
    "    for arg in args:\n",
    "        print(arg)\n",
    "    for keyword, value in kwargs.items():\n",
    "        print(keyword, value)\n",
    "        \n",
    "random_func(str_title,'strings', '3', str_1=string_1, str_2=string_2, str_3=string_3)"
   ]
  },
  {
   "cell_type": "code",
   "execution_count": 40,
   "metadata": {},
   "outputs": [
    {
     "name": "stdout",
     "output_type": "stream",
     "text": [
      "must-have arguments are:\n",
      "1\n",
      "2\n",
      "optional arguments are:\n",
      "<function display_arguments.<locals>.display_and_call at 0x00000151122D6400>\n"
     ]
    }
   ],
   "source": [
    "def display_arguments(func):\n",
    "    def display_and_call(*args, **kwargs):\n",
    "        args = list(args)\n",
    "        print('must-have arguments are:')\n",
    "        for i in args:\n",
    "            print(i)\n",
    "        print('optional arguments are:')\n",
    "        for kw in kwargs.keys():\n",
    "            print(kw+'='+str(kwargs[kw]))\n",
    "        return func(*args, **kwargs)\n",
    "    return display_and_call\n",
    "    \n",
    "@display_arguments\n",
    "def my_add(m1, p1=0):\n",
    "    output_dict ={}\n",
    "    output_dict['r1'] = m1 + p1\n",
    "    return output_dict\n",
    "\n",
    "@display_arguments\n",
    "def my_deduct(m1, p1=0):\n",
    "    output_dict = {}\n",
    "    output_dict['r1'] = m1 - p1\n",
    "    return output_dict\n",
    "\n",
    "print(display_arguments(my_add(1,2)))"
   ]
  },
  {
   "cell_type": "markdown",
   "metadata": {},
   "source": [
    "### Generator"
   ]
  },
  {
   "cell_type": "markdown",
   "metadata": {},
   "source": [
    "> <span style=\"font-family:Babas; font-size:1.2em\">\"Iteratively finds what's next\"</span>"
   ]
  },
  {
   "cell_type": "markdown",
   "metadata": {},
   "source": [
    "> <span style=\"font-family:Babas; font-size:1.2em\">\"Use generator to save memory(and time) whenever possible\"</span>"
   ]
  },
  {
   "cell_type": "code",
   "execution_count": 49,
   "metadata": {},
   "outputs": [
    {
     "name": "stdout",
     "output_type": "stream",
     "text": [
      "[0, 1, 4, 9, 16, 25, 36, 49, 64, 81]\n",
      "<generator object get_squares_gen at 0x000001511222DBA0>\n",
      "0\n",
      "1\n",
      "4\n",
      "9\n"
     ]
    }
   ],
   "source": [
    "# Comparison with regular function and generator function\n",
    "def get_squares(n):\n",
    "    return [x ** 2 for x in range(n)]\n",
    "\n",
    "def get_squares_gen(n):\n",
    "    for x in range(n):\n",
    "        yield x ** 2\n",
    "        \n",
    "print(get_squares(10))\n",
    "print(get_squares_gen(10)) # Returns generator object\n",
    "gen_obejct = get_squares_gen(4)\n",
    "\n",
    "print(next(gen_obejct))\n",
    "print(next(gen_obejct))\n",
    "print(next(gen_obejct))\n",
    "print(next(gen_obejct))\n",
    "# print(next(gen_obejct)) # --> Raises StopIteration Error\n",
    "\n"
   ]
  },
  {
   "cell_type": "code",
   "execution_count": 18,
   "metadata": {},
   "outputs": [
    {
     "name": "stdout",
     "output_type": "stream",
     "text": [
      "0\n",
      "<class 'str'> W\n",
      "<class 'str'> R\n",
      "<class 'NoneType'> None\n",
      "3\n"
     ]
    }
   ],
   "source": [
    "# send, throw, close\n",
    "\n",
    "# stop = False\n",
    "# def counter(start=0):\n",
    "#     n = start\n",
    "#     while not stop:\n",
    "#         yield n\n",
    "#         n += 1\n",
    "# c = counter()\n",
    "# print(next(c))\n",
    "# print(next(c))\n",
    "# stop = True\n",
    "# print(next(c)) # --> StopIteration Error\n",
    "# ================================================================== #\n",
    "#  More Elegant way of implementing the above code using 'send'\n",
    "def counter_send(start = 0):\n",
    "    n = start\n",
    "    while True:\n",
    "        result = yield n # Execution stops here\n",
    "        print(type(result), result)\n",
    "        if result == 'Q':\n",
    "            break\n",
    "        n += 1\n",
    "\n",
    "c_send = counter_send()\n",
    "# print(next(c_send))\n",
    "# print(c_send.send('Wow'))\n",
    "# print(next(c_send))\n",
    "# print(next(c_send))\n",
    "print(next(c_send))\n",
    "c_send.send('W')\n",
    "c_send.send('R')\n",
    "print(next(c_send))"
   ]
  },
  {
   "cell_type": "code",
   "execution_count": 24,
   "metadata": {},
   "outputs": [
    {
     "name": "stdout",
     "output_type": "stream",
     "text": [
      "4\n"
     ]
    }
   ],
   "source": [
    "# 'yield from' expression\n",
    "def print_squares(start, end):\n",
    "    for n in range(start, end):\n",
    "        yield n ** 2\n",
    "\n",
    "def print_squares_yf(start, end):\n",
    "    yield from (n ** 2 for n in range(start, end))\n",
    "\n",
    "# for n in print_squares_yf(2, 5):\n",
    "#     print(n)\n",
    "        \n",
    "# for n in print_squares(2, 5):\n",
    "#     print(n)\n",
    "    \n",
    "print(next(print_squares_yf(2,5)))"
   ]
  },
  {
   "cell_type": "code",
   "execution_count": 27,
   "metadata": {},
   "outputs": [
    {
     "name": "stdout",
     "output_type": "stream",
     "text": [
      "List Call:  [0, 1, 8, 27, 64, 125, 216, 343, 512, 729]\n",
      "List Call Again:  [0, 1, 8, 27, 64, 125, 216, 343, 512, 729]\n",
      "Generator Call:  [0, 1, 8, 27, 64, 125, 216, 343, 512, 729]\n",
      "Generator Call Again:  []\n"
     ]
    }
   ],
   "source": [
    "# Generator expressions\n",
    "\n",
    "cubes_list = [k ** 3 for k in range(10)] # regular list\n",
    "cubes_gen =  (k ** 3 for k in range(10)) # generator\n",
    "\n",
    "print('List Call: ', cubes_list)\n",
    "print('List Call Again: ', cubes_list) # List remains the same\n",
    "print('Generator Call: ', list(cubes_gen))\n",
    "print('Generator Call Again: ',list(cubes_gen)) # generator exhausted\n"
   ]
  },
  {
   "cell_type": "code",
   "execution_count": 65,
   "metadata": {},
   "outputs": [
    {
     "name": "stdout",
     "output_type": "stream",
     "text": [
      "[0, 8, 64, 216, 512]\n",
      "[1, 27, 125, 343, 729]\n"
     ]
    }
   ],
   "source": [
    "# Reproducing map, filter using generators\n",
    "\n",
    "def adder(*n):\n",
    "    return sum(n)\n",
    "\n",
    "s1 = sum(map(lambda n: adder(*n), zip(range(100), range(1, 101))))\n",
    "s2 = sum(adder(*n) for n in zip(range(100), range(1, 101)))\n",
    "\n",
    "# print(s1)\n",
    "# print(s2)\n",
    "\n",
    "cubes = [x ** 3 for x in range(10)]\n",
    "odd_cubes1 = filter(lambda cube: cube % 2 == 0, cubes)\n",
    "odd_cubes2 = (cube for cube in cubes if cube % 2)\n",
    "\n",
    "print(list(odd_cubes1))\n",
    "print(list(odd_cubes2))"
   ]
  },
  {
   "cell_type": "code",
   "execution_count": 69,
   "metadata": {},
   "outputs": [
    {
     "name": "stdout",
     "output_type": "stream",
     "text": [
      "[1, 27, 125, 343, 729]\n"
     ]
    }
   ],
   "source": [
    "odd_cube = lambda cube: cube % 2\n",
    "odd_cube_filtered = filter(odd_cube, cubes)\n",
    "print(list(odd_cube_filtered))"
   ]
  }
 ],
 "metadata": {
  "kernelspec": {
   "display_name": "Python3 TF",
   "language": "python",
   "name": "newenv"
  },
  "language_info": {
   "codemirror_mode": {
    "name": "ipython",
    "version": 3
   },
   "file_extension": ".py",
   "mimetype": "text/x-python",
   "name": "python",
   "nbconvert_exporter": "python",
   "pygments_lexer": "ipython3",
   "version": "3.6.8"
  }
 },
 "nbformat": 4,
 "nbformat_minor": 2
}
