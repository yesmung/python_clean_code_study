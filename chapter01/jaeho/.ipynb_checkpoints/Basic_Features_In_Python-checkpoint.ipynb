{
 "cells": [
  {
   "cell_type": "markdown",
   "metadata": {},
   "source": [
    "## What are the Built-In Functions in Python?        \n",
    "![This](./resources/py_built_in_func_list.png)"
   ]
  },
  {
   "cell_type": "markdown",
   "metadata": {},
   "source": [
    "<span style=\"font-family:Babas; font-size:2em;\">classmethod()</span>"
   ]
  },
  {
   "cell_type": "markdown",
   "metadata": {},
   "source": [
    "* <span style=\"font-family:Babas; font-size:1.5em;\"> classmethod()를 이용한 Factory Method Pattern 구현</span>"
   ]
  },
  {
   "cell_type": "markdown",
   "metadata": {},
   "source": [
    "> <span style=\"font-size:1.2em\">Define an interface for creating an object, but let the classes which implement the interface decide which class to instantiate </span>"
   ]
  },
  {
   "cell_type": "markdown",
   "metadata": {},
   "source": [
    "> <span style=\"font-size:1.2em\">\"Encapsulating Object Creation\" </span>"
   ]
  },
  {
   "cell_type": "code",
   "execution_count": 10,
   "metadata": {},
   "outputs": [],
   "source": [
    "# 생성자를 이용한 객체 생성\n",
    "class Student(object):\n",
    "    \n",
    "    def __init__(self, first_name, last_name):\n",
    "        self.first_name = first_name\n",
    "        self.last_name = last_name\n",
    "scott = Student('Scott', 'Robinson')"
   ]
  },
  {
   "cell_type": "code",
   "execution_count": 23,
   "metadata": {},
   "outputs": [
    {
     "name": "stdout",
     "output_type": "stream",
     "text": [
      "Scott\n",
      "who\n"
     ]
    }
   ],
   "source": [
    "# classmethod()를 이용한 객체 생성\n",
    "class Student(object):\n",
    "    \n",
    "    def __init__(self, first_name, last_name, mid_term_score):\n",
    "        self.first_name = first_name\n",
    "        self.last_name =  last_name\n",
    "        self.mid_term_score = mid_term_score\n",
    "\n",
    "    @classmethod\n",
    "    def from_string(cls, name_str):\n",
    "        first_name, last_name = map(str, name_str.split(' '))\n",
    "        student = cls(first_name, last_name, 30)\n",
    "        return student\n",
    "    \n",
    "    @classmethod\n",
    "    def from_grade(cls, grade_score):\n",
    "        student = cls('who', 'RU', grade_score)\n",
    "        return student\n",
    "\n",
    "\n",
    "scott = Student.from_string('Scott Robinson')\n",
    "anonymous = Student.from_grade(90)\n",
    "\n",
    "print(scott.first_name)\n",
    "print(anonymous.first_name)"
   ]
  },
  {
   "cell_type": "code",
   "execution_count": 10,
   "metadata": {},
   "outputs": [
    {
     "name": "stdout",
     "output_type": "stream",
     "text": [
      "<img></img>\n",
      "<input></input>\n",
      "<obj></obj>\n"
     ]
    }
   ],
   "source": [
    "class Button(object):\n",
    "    html = \"\"\n",
    "    def get_html(self):\n",
    "        return self.html\n",
    "    \n",
    "class Image(Button):\n",
    "    html = \"<img></img>\"\n",
    "\n",
    "class Input(Button):\n",
    "    html = \"<input></input>\"\n",
    "\n",
    "class Flash(Button):\n",
    "    html = \"<obj></obj>\"\n",
    "    \n",
    "class ButtonFactory():\n",
    "    def create_button(self, typ):\n",
    "        targetclass = typ.capitalize()\n",
    "        return globals()[targetclass]()\n",
    "    \n",
    "button_obj = ButtonFactory()\n",
    "button = ['image', 'input', 'flash']\n",
    "for b in button:\n",
    "    print(button_obj.create_button(b).get_html())\n"
   ]
  },
  {
   "cell_type": "code",
   "execution_count": 24,
   "metadata": {},
   "outputs": [
    {
     "name": "stdout",
     "output_type": "stream",
     "text": [
      "<img></img>\n",
      "<input></input>\n",
      "<obj></obj>\n"
     ]
    }
   ],
   "source": [
    "class Button(object):\n",
    "    def __init__(self, html=\"\"):\n",
    "        self.html = html\n",
    "        \n",
    "    def get_html(self):\n",
    "        return self.html\n",
    "\n",
    "    @classmethod\n",
    "    def from_Image(cls):\n",
    "        return cls('<img></img>')\n",
    "    \n",
    "    @classmethod\n",
    "    def from_Input(cls):\n",
    "        return cls('<input></input>')\n",
    "    \n",
    "    @classmethod\n",
    "    def from_Flash(cls):\n",
    "        return cls('<obj></obj>')\n",
    "    \n",
    "button_obj = Button()\n",
    "print(button_obj.from_Image().get_html())\n",
    "print(button_obj.from_Input().get_html())\n",
    "print(button_obj.from_Flash().get_html())"
   ]
  },
  {
   "cell_type": "markdown",
   "metadata": {},
   "source": [
    "<span style=\"font-family:Babas; font-size:2em;\">lambda(), map() and filter()</span>"
   ]
  },
  {
   "cell_type": "markdown",
   "metadata": {},
   "source": []
  },
  {
   "cell_type": "code",
   "execution_count": null,
   "metadata": {},
   "outputs": [],
   "source": []
  },
  {
   "cell_type": "markdown",
   "metadata": {},
   "source": [
    "### property()  \n",
    "* @property()"
   ]
  },
  {
   "cell_type": "code",
   "execution_count": null,
   "metadata": {},
   "outputs": [],
   "source": []
  },
  {
   "cell_type": "markdown",
   "metadata": {},
   "source": [
    "## Miscellaneous"
   ]
  },
  {
   "cell_type": "markdown",
   "metadata": {},
   "source": [
    " * <span style=\"font-size: 1.5em\">Understanding \\*args, **kwargs (and when to use it) </span>"
   ]
  },
  {
   "cell_type": "markdown",
   "metadata": {},
   "source": [
    "> <span style=\"font-size: 1.2em\">Variable (keyword ) arguments passed as an iterable </span>"
   ]
  },
  {
   "cell_type": "code",
   "execution_count": 26,
   "metadata": {},
   "outputs": [
    {
     "name": "stdout",
     "output_type": "stream",
     "text": [
      "Is an awesome company\n",
      "Really?\n"
     ]
    }
   ],
   "source": [
    "str_1 = 'LG Electronics'\n",
    "str_2 = 'Is an awesome company'\n",
    "str_3 = 'Really?'\n",
    "\n",
    "str_title = 'Wow'\n",
    "\n",
    "def random_func(title, title2, *args):\n",
    "    for strings in args:\n",
    "        print(strings)\n",
    "        \n",
    "random_func(str_title, str_1, str_2, str_3)"
   ]
  },
  {
   "cell_type": "code",
   "execution_count": 28,
   "metadata": {},
   "outputs": [
    {
     "name": "stdout",
     "output_type": "stream",
     "text": [
      "Wow\n",
      "str_1 LG Electronics\n",
      "str_2 Is an awesome company\n",
      "str_3 Really?\n"
     ]
    }
   ],
   "source": [
    "string_1 = 'LG Electronics'\n",
    "string_2 = 'Is an awesome company'\n",
    "string_3 = 'Really?'\n",
    "\n",
    "str_title = 'Wow'\n",
    "\n",
    "def random_func(title, **kwargs):\n",
    "    print(title)\n",
    "    for keyword, value in kwargs.items():\n",
    "        print(keyword, value)\n",
    "        \n",
    "random_func(str_title, str_1=string_1, str_2=string_2, str_3=string_3)"
   ]
  },
  {
   "cell_type": "code",
   "execution_count": 35,
   "metadata": {
    "scrolled": true
   },
   "outputs": [
    {
     "name": "stdout",
     "output_type": "stream",
     "text": [
      "Wow\n",
      "strings\n",
      "3\n",
      "str_1 LG Electronics\n",
      "str_2 Is an awesome company\n",
      "str_3 Really?\n"
     ]
    }
   ],
   "source": [
    "string_1 = 'LG Electronics'\n",
    "string_2 = 'Is an awesome company'\n",
    "string_3 = 'Really?'\n",
    "\n",
    "str_title = 'Wow'\n",
    "\n",
    "def random_func(title, *args, **kwargs):\n",
    "    print(title)\n",
    "#     print(name)\n",
    "    for arg in args:\n",
    "        print(arg)\n",
    "    for keyword, value in kwargs.items():\n",
    "        print(keyword, value)\n",
    "        \n",
    "random_func(str_title,'strings', '3', str_1=string_1, str_2=string_2, str_3=string_3)"
   ]
  },
  {
   "cell_type": "code",
   "execution_count": 51,
   "metadata": {},
   "outputs": [
    {
     "name": "stdout",
     "output_type": "stream",
     "text": [
      "must-have arguments are:\n",
      "1\n",
      "2\n",
      "optional arguments are:\n",
      "<function display_arguments.<locals>.display_and_call at 0x0000020CD9CF8BF8>\n"
     ]
    }
   ],
   "source": [
    "def display_arguments(func):\n",
    "    def display_and_call(*args, **kwargs):\n",
    "        args = list(args)\n",
    "        print('must-have arguments are:')\n",
    "        for i in args:\n",
    "            print(i)\n",
    "        print('optional arguments are:')\n",
    "        for kw in kwargs.keys():\n",
    "            print(kw+'='+str(kwargs[kw]))\n",
    "        return func(*args, **kwargs)\n",
    "    return display_and_call\n",
    "    \n",
    "@display_arguments\n",
    "def my_add(m1, p1=0):\n",
    "    output_dict ={}\n",
    "    output_dict['r1'] = m1 + p1\n",
    "    return output_dict\n",
    "\n",
    "@display_arguments\n",
    "def my_deduct(m1, p1=0):\n",
    "    output_dict = {}\n",
    "    output_dict['r1'] = m1 - p1\n",
    "    return output_dict\n",
    "\n",
    "print(display_arguments(my_add(1,2)))"
   ]
  },
  {
   "cell_type": "markdown",
   "metadata": {},
   "source": [
    "### Generator"
   ]
  },
  {
   "cell_type": "code",
   "execution_count": null,
   "metadata": {},
   "outputs": [],
   "source": []
  }
 ],
 "metadata": {
  "kernelspec": {
   "display_name": "Python3 TF",
   "language": "python",
   "name": "newenv"
  },
  "language_info": {
   "codemirror_mode": {
    "name": "ipython",
    "version": 3
   },
   "file_extension": ".py",
   "mimetype": "text/x-python",
   "name": "python",
   "nbconvert_exporter": "python",
   "pygments_lexer": "ipython3",
   "version": "3.6.8"
  }
 },
 "nbformat": 4,
 "nbformat_minor": 2
}
